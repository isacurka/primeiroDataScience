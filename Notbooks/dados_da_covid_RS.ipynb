{
  "nbformat": 4,
  "nbformat_minor": 0,
  "metadata": {
    "colab": {
      "name": "dados_da_covid_RS.ipynb",
      "provenance": [],
      "authorship_tag": "ABX9TyMqoLsL+2RFo+vCe2UoEzo6",
      "include_colab_link": true
    },
    "kernelspec": {
      "name": "python3",
      "display_name": "Python 3"
    },
    "language_info": {
      "name": "python"
    }
  },
  "cells": [
    {
      "cell_type": "markdown",
      "metadata": {
        "id": "view-in-github",
        "colab_type": "text"
      },
      "source": [
        "<a href=\"https://colab.research.google.com/github/isacurka/primeiroDataScience/blob/main/dados_da_covid_RS.ipynb\" target=\"_parent\"><img src=\"https://colab.research.google.com/assets/colab-badge.svg\" alt=\"Open In Colab\"/></a>"
      ]
    },
    {
      "cell_type": "markdown",
      "metadata": {
        "id": "MrS73x4J_yzQ"
      },
      "source": [
        "# Trazendo os arquivos necessarios para analise\n"
      ]
    },
    {
      "cell_type": "code",
      "metadata": {
        "colab": {
          "base_uri": "https://localhost:8080/",
          "height": 419
        },
        "id": "K0zGAmYsAGTo",
        "outputId": "7735da9e-b56e-47c2-8329-62464b5bb168"
      },
      "source": [
        "import pandas as pd\n",
        "\n",
        "dados=pd.read_csv(\"casos_covid.csv\",sep=\";\")\n",
        "dados"
      ],
      "execution_count": 28,
      "outputs": [
        {
          "output_type": "execute_result",
          "data": {
            "text/html": [
              "<div>\n",
              "<style scoped>\n",
              "    .dataframe tbody tr th:only-of-type {\n",
              "        vertical-align: middle;\n",
              "    }\n",
              "\n",
              "    .dataframe tbody tr th {\n",
              "        vertical-align: top;\n",
              "    }\n",
              "\n",
              "    .dataframe thead th {\n",
              "        text-align: right;\n",
              "    }\n",
              "</style>\n",
              "<table border=\"1\" class=\"dataframe\">\n",
              "  <thead>\n",
              "    <tr style=\"text-align: right;\">\n",
              "      <th></th>\n",
              "      <th>COD_IBGE</th>\n",
              "      <th>MUNICIPIO</th>\n",
              "      <th>COD_REGIAO_COVID</th>\n",
              "      <th>REGIAO_COVID</th>\n",
              "      <th>BAIRRO</th>\n",
              "      <th>QUANTIDADE_CASOS</th>\n",
              "    </tr>\n",
              "  </thead>\n",
              "  <tbody>\n",
              "    <tr>\n",
              "      <th>0</th>\n",
              "      <td>430060</td>\n",
              "      <td>ALVORADA</td>\n",
              "      <td>7</td>\n",
              "      <td>PORTO ALEGRE - R10</td>\n",
              "      <td>'PIRATINI</td>\n",
              "      <td>1</td>\n",
              "    </tr>\n",
              "    <tr>\n",
              "      <th>1</th>\n",
              "      <td>430060</td>\n",
              "      <td>ALVORADA</td>\n",
              "      <td>7</td>\n",
              "      <td>PORTO ALEGRE - R10</td>\n",
              "      <td>'PORTO VERDE</td>\n",
              "      <td>1</td>\n",
              "    </tr>\n",
              "    <tr>\n",
              "      <th>2</th>\n",
              "      <td>430060</td>\n",
              "      <td>ALVORADA</td>\n",
              "      <td>7</td>\n",
              "      <td>PORTO ALEGRE - R10</td>\n",
              "      <td>-</td>\n",
              "      <td>11</td>\n",
              "    </tr>\n",
              "    <tr>\n",
              "      <th>3</th>\n",
              "      <td>430060</td>\n",
              "      <td>ALVORADA</td>\n",
              "      <td>7</td>\n",
              "      <td>PORTO ALEGRE - R10</td>\n",
              "      <td>0</td>\n",
              "      <td>2</td>\n",
              "    </tr>\n",
              "    <tr>\n",
              "      <th>4</th>\n",
              "      <td>430060</td>\n",
              "      <td>ALVORADA</td>\n",
              "      <td>7</td>\n",
              "      <td>PORTO ALEGRE - R10</td>\n",
              "      <td>00000000</td>\n",
              "      <td>1</td>\n",
              "    </tr>\n",
              "    <tr>\n",
              "      <th>...</th>\n",
              "      <td>...</td>\n",
              "      <td>...</td>\n",
              "      <td>...</td>\n",
              "      <td>...</td>\n",
              "      <td>...</td>\n",
              "      <td>...</td>\n",
              "    </tr>\n",
              "    <tr>\n",
              "      <th>16408</th>\n",
              "      <td>432300</td>\n",
              "      <td>VIAMÃO</td>\n",
              "      <td>7</td>\n",
              "      <td>PORTO ALEGRE - R10</td>\n",
              "      <td>VOLTA DA FIGUEIRA</td>\n",
              "      <td>2</td>\n",
              "    </tr>\n",
              "    <tr>\n",
              "      <th>16409</th>\n",
              "      <td>432300</td>\n",
              "      <td>VIAMÃO</td>\n",
              "      <td>7</td>\n",
              "      <td>PORTO ALEGRE - R10</td>\n",
              "      <td>VULA AUGUSTA</td>\n",
              "      <td>1</td>\n",
              "    </tr>\n",
              "    <tr>\n",
              "      <th>16410</th>\n",
              "      <td>432300</td>\n",
              "      <td>VIAMÃO</td>\n",
              "      <td>7</td>\n",
              "      <td>PORTO ALEGRE - R10</td>\n",
              "      <td>XX</td>\n",
              "      <td>1</td>\n",
              "    </tr>\n",
              "    <tr>\n",
              "      <th>16411</th>\n",
              "      <td>432300</td>\n",
              "      <td>VIAMÃO</td>\n",
              "      <td>7</td>\n",
              "      <td>PORTO ALEGRE - R10</td>\n",
              "      <td>XXXXXX</td>\n",
              "      <td>1</td>\n",
              "    </tr>\n",
              "    <tr>\n",
              "      <th>16412</th>\n",
              "      <td>432300</td>\n",
              "      <td>VIAMÃO</td>\n",
              "      <td>7</td>\n",
              "      <td>PORTO ALEGRE - R10</td>\n",
              "      <td>ZONA RURAL</td>\n",
              "      <td>2</td>\n",
              "    </tr>\n",
              "  </tbody>\n",
              "</table>\n",
              "<p>16413 rows × 6 columns</p>\n",
              "</div>"
            ],
            "text/plain": [
              "       COD_IBGE MUNICIPIO  ...             BAIRRO QUANTIDADE_CASOS\n",
              "0        430060  ALVORADA  ...          'PIRATINI                1\n",
              "1        430060  ALVORADA  ...       'PORTO VERDE                1\n",
              "2        430060  ALVORADA  ...                  -               11\n",
              "3        430060  ALVORADA  ...                  0                2\n",
              "4        430060  ALVORADA  ...           00000000                1\n",
              "...         ...       ...  ...                ...              ...\n",
              "16408    432300    VIAMÃO  ...  VOLTA DA FIGUEIRA                2\n",
              "16409    432300    VIAMÃO  ...       VULA AUGUSTA                1\n",
              "16410    432300    VIAMÃO  ...                 XX                1\n",
              "16411    432300    VIAMÃO  ...             XXXXXX                1\n",
              "16412    432300    VIAMÃO  ...         ZONA RURAL                2\n",
              "\n",
              "[16413 rows x 6 columns]"
            ]
          },
          "metadata": {},
          "execution_count": 28
        }
      ]
    },
    {
      "cell_type": "code",
      "metadata": {
        "id": "fP-wCCWyIGMY"
      },
      "source": [
        "df=pd.DataFrame(dados)"
      ],
      "execution_count": 29,
      "outputs": []
    },
    {
      "cell_type": "code",
      "metadata": {
        "colab": {
          "base_uri": "https://localhost:8080/"
        },
        "id": "GZ9MgMuECSlc",
        "outputId": "1bfe7c4f-b5ec-48d0-c718-66f48fb021c2"
      },
      "source": [
        "df[\"QUANTIDADE_CASOS\"].describe()"
      ],
      "execution_count": 31,
      "outputs": [
        {
          "output_type": "execute_result",
          "data": {
            "text/plain": [
              "count    16413.000000\n",
              "mean        31.145007\n",
              "std        234.489659\n",
              "min          1.000000\n",
              "25%          1.000000\n",
              "50%          1.000000\n",
              "75%          2.000000\n",
              "max       9555.000000\n",
              "Name: QUANTIDADE_CASOS, dtype: float64"
            ]
          },
          "metadata": {},
          "execution_count": 31
        }
      ]
    },
    {
      "cell_type": "code",
      "metadata": {
        "colab": {
          "base_uri": "https://localhost:8080/"
        },
        "id": "b6Rx_Ck1Di83",
        "outputId": "c9eb41c0-c3d4-4fa1-8188-58ffc5974ace"
      },
      "source": [
        "df.info"
      ],
      "execution_count": 32,
      "outputs": [
        {
          "output_type": "execute_result",
          "data": {
            "text/plain": [
              "<bound method DataFrame.info of        COD_IBGE MUNICIPIO  ...             BAIRRO QUANTIDADE_CASOS\n",
              "0        430060  ALVORADA  ...          'PIRATINI                1\n",
              "1        430060  ALVORADA  ...       'PORTO VERDE                1\n",
              "2        430060  ALVORADA  ...                  -               11\n",
              "3        430060  ALVORADA  ...                  0                2\n",
              "4        430060  ALVORADA  ...           00000000                1\n",
              "...         ...       ...  ...                ...              ...\n",
              "16408    432300    VIAMÃO  ...  VOLTA DA FIGUEIRA                2\n",
              "16409    432300    VIAMÃO  ...       VULA AUGUSTA                1\n",
              "16410    432300    VIAMÃO  ...                 XX                1\n",
              "16411    432300    VIAMÃO  ...             XXXXXX                1\n",
              "16412    432300    VIAMÃO  ...         ZONA RURAL                2\n",
              "\n",
              "[16413 rows x 6 columns]>"
            ]
          },
          "metadata": {},
          "execution_count": 32
        }
      ]
    },
    {
      "cell_type": "code",
      "metadata": {
        "colab": {
          "base_uri": "https://localhost:8080/"
        },
        "id": "--lSDv1CEIvh",
        "outputId": "f2f38e1f-9b16-46b3-d1a5-ea84f70fce3c"
      },
      "source": [
        "df.dtypes"
      ],
      "execution_count": 33,
      "outputs": [
        {
          "output_type": "execute_result",
          "data": {
            "text/plain": [
              "COD_IBGE             int64\n",
              "MUNICIPIO           object\n",
              "COD_REGIAO_COVID     int64\n",
              "REGIAO_COVID        object\n",
              "BAIRRO              object\n",
              "QUANTIDADE_CASOS     int64\n",
              "dtype: object"
            ]
          },
          "metadata": {},
          "execution_count": 33
        }
      ]
    },
    {
      "cell_type": "code",
      "metadata": {
        "colab": {
          "base_uri": "https://localhost:8080/",
          "height": 419
        },
        "id": "V3IpIN50Drcq",
        "outputId": "749ae5f8-4062-45df-dfdf-dae0a71cce73"
      },
      "source": [
        "df[[\"MUNICIPIO\"]]"
      ],
      "execution_count": 34,
      "outputs": [
        {
          "output_type": "execute_result",
          "data": {
            "text/html": [
              "<div>\n",
              "<style scoped>\n",
              "    .dataframe tbody tr th:only-of-type {\n",
              "        vertical-align: middle;\n",
              "    }\n",
              "\n",
              "    .dataframe tbody tr th {\n",
              "        vertical-align: top;\n",
              "    }\n",
              "\n",
              "    .dataframe thead th {\n",
              "        text-align: right;\n",
              "    }\n",
              "</style>\n",
              "<table border=\"1\" class=\"dataframe\">\n",
              "  <thead>\n",
              "    <tr style=\"text-align: right;\">\n",
              "      <th></th>\n",
              "      <th>MUNICIPIO</th>\n",
              "    </tr>\n",
              "  </thead>\n",
              "  <tbody>\n",
              "    <tr>\n",
              "      <th>0</th>\n",
              "      <td>ALVORADA</td>\n",
              "    </tr>\n",
              "    <tr>\n",
              "      <th>1</th>\n",
              "      <td>ALVORADA</td>\n",
              "    </tr>\n",
              "    <tr>\n",
              "      <th>2</th>\n",
              "      <td>ALVORADA</td>\n",
              "    </tr>\n",
              "    <tr>\n",
              "      <th>3</th>\n",
              "      <td>ALVORADA</td>\n",
              "    </tr>\n",
              "    <tr>\n",
              "      <th>4</th>\n",
              "      <td>ALVORADA</td>\n",
              "    </tr>\n",
              "    <tr>\n",
              "      <th>...</th>\n",
              "      <td>...</td>\n",
              "    </tr>\n",
              "    <tr>\n",
              "      <th>16408</th>\n",
              "      <td>VIAMÃO</td>\n",
              "    </tr>\n",
              "    <tr>\n",
              "      <th>16409</th>\n",
              "      <td>VIAMÃO</td>\n",
              "    </tr>\n",
              "    <tr>\n",
              "      <th>16410</th>\n",
              "      <td>VIAMÃO</td>\n",
              "    </tr>\n",
              "    <tr>\n",
              "      <th>16411</th>\n",
              "      <td>VIAMÃO</td>\n",
              "    </tr>\n",
              "    <tr>\n",
              "      <th>16412</th>\n",
              "      <td>VIAMÃO</td>\n",
              "    </tr>\n",
              "  </tbody>\n",
              "</table>\n",
              "<p>16413 rows × 1 columns</p>\n",
              "</div>"
            ],
            "text/plain": [
              "      MUNICIPIO\n",
              "0      ALVORADA\n",
              "1      ALVORADA\n",
              "2      ALVORADA\n",
              "3      ALVORADA\n",
              "4      ALVORADA\n",
              "...         ...\n",
              "16408    VIAMÃO\n",
              "16409    VIAMÃO\n",
              "16410    VIAMÃO\n",
              "16411    VIAMÃO\n",
              "16412    VIAMÃO\n",
              "\n",
              "[16413 rows x 1 columns]"
            ]
          },
          "metadata": {},
          "execution_count": 34
        }
      ]
    },
    {
      "cell_type": "markdown",
      "metadata": {
        "id": "PLmqcwlo_Ygi"
      },
      "source": [
        "# Analisando dados de Pelotas"
      ]
    },
    {
      "cell_type": "code",
      "metadata": {
        "id": "CEAvcIyWMIof"
      },
      "source": [
        "df2=df.set_index(\"MUNICIPIO\")"
      ],
      "execution_count": 35,
      "outputs": []
    },
    {
      "cell_type": "code",
      "metadata": {
        "colab": {
          "base_uri": "https://localhost:8080/",
          "height": 450
        },
        "id": "Lo0TWkroHqVl",
        "outputId": "d9a8bfde-14fb-44f9-dad9-c464919d2c4c"
      },
      "source": [
        "df2.loc['PELOTAS']"
      ],
      "execution_count": 36,
      "outputs": [
        {
          "output_type": "execute_result",
          "data": {
            "text/html": [
              "<div>\n",
              "<style scoped>\n",
              "    .dataframe tbody tr th:only-of-type {\n",
              "        vertical-align: middle;\n",
              "    }\n",
              "\n",
              "    .dataframe tbody tr th {\n",
              "        vertical-align: top;\n",
              "    }\n",
              "\n",
              "    .dataframe thead th {\n",
              "        text-align: right;\n",
              "    }\n",
              "</style>\n",
              "<table border=\"1\" class=\"dataframe\">\n",
              "  <thead>\n",
              "    <tr style=\"text-align: right;\">\n",
              "      <th></th>\n",
              "      <th>COD_IBGE</th>\n",
              "      <th>COD_REGIAO_COVID</th>\n",
              "      <th>REGIAO_COVID</th>\n",
              "      <th>BAIRRO</th>\n",
              "      <th>QUANTIDADE_CASOS</th>\n",
              "    </tr>\n",
              "    <tr>\n",
              "      <th>MUNICIPIO</th>\n",
              "      <th></th>\n",
              "      <th></th>\n",
              "      <th></th>\n",
              "      <th></th>\n",
              "      <th></th>\n",
              "    </tr>\n",
              "  </thead>\n",
              "  <tbody>\n",
              "    <tr>\n",
              "      <th>PELOTAS</th>\n",
              "      <td>431440</td>\n",
              "      <td>15</td>\n",
              "      <td>PELOTAS - R21</td>\n",
              "      <td>-</td>\n",
              "      <td>31</td>\n",
              "    </tr>\n",
              "    <tr>\n",
              "      <th>PELOTAS</th>\n",
              "      <td>431440</td>\n",
              "      <td>15</td>\n",
              "      <td>PELOTAS - R21</td>\n",
              "      <td>.</td>\n",
              "      <td>27</td>\n",
              "    </tr>\n",
              "    <tr>\n",
              "      <th>PELOTAS</th>\n",
              "      <td>431440</td>\n",
              "      <td>15</td>\n",
              "      <td>PELOTAS - R21</td>\n",
              "      <td>0</td>\n",
              "      <td>2</td>\n",
              "    </tr>\n",
              "    <tr>\n",
              "      <th>PELOTAS</th>\n",
              "      <td>431440</td>\n",
              "      <td>15</td>\n",
              "      <td>PELOTAS - R21</td>\n",
              "      <td>00</td>\n",
              "      <td>2</td>\n",
              "    </tr>\n",
              "    <tr>\n",
              "      <th>PELOTAS</th>\n",
              "      <td>431440</td>\n",
              "      <td>15</td>\n",
              "      <td>PELOTAS - R21</td>\n",
              "      <td>00000000000</td>\n",
              "      <td>1</td>\n",
              "    </tr>\n",
              "    <tr>\n",
              "      <th>...</th>\n",
              "      <td>...</td>\n",
              "      <td>...</td>\n",
              "      <td>...</td>\n",
              "      <td>...</td>\n",
              "      <td>...</td>\n",
              "    </tr>\n",
              "    <tr>\n",
              "      <th>PELOTAS</th>\n",
              "      <td>431440</td>\n",
              "      <td>15</td>\n",
              "      <td>PELOTAS - R21</td>\n",
              "      <td>Z 3</td>\n",
              "      <td>1</td>\n",
              "    </tr>\n",
              "    <tr>\n",
              "      <th>PELOTAS</th>\n",
              "      <td>431440</td>\n",
              "      <td>15</td>\n",
              "      <td>PELOTAS - R21</td>\n",
              "      <td>Z3</td>\n",
              "      <td>9</td>\n",
              "    </tr>\n",
              "    <tr>\n",
              "      <th>PELOTAS</th>\n",
              "      <td>431440</td>\n",
              "      <td>15</td>\n",
              "      <td>PELOTAS - R21</td>\n",
              "      <td>ZONA NORTE</td>\n",
              "      <td>1</td>\n",
              "    </tr>\n",
              "    <tr>\n",
              "      <th>PELOTAS</th>\n",
              "      <td>431440</td>\n",
              "      <td>15</td>\n",
              "      <td>PELOTAS - R21</td>\n",
              "      <td>ZONA RURAC</td>\n",
              "      <td>1</td>\n",
              "    </tr>\n",
              "    <tr>\n",
              "      <th>PELOTAS</th>\n",
              "      <td>431440</td>\n",
              "      <td>15</td>\n",
              "      <td>PELOTAS - R21</td>\n",
              "      <td>ZONA RURAL</td>\n",
              "      <td>73</td>\n",
              "    </tr>\n",
              "  </tbody>\n",
              "</table>\n",
              "<p>856 rows × 5 columns</p>\n",
              "</div>"
            ],
            "text/plain": [
              "           COD_IBGE  COD_REGIAO_COVID  ...       BAIRRO QUANTIDADE_CASOS\n",
              "MUNICIPIO                              ...                              \n",
              "PELOTAS      431440                15  ...            -               31\n",
              "PELOTAS      431440                15  ...            .               27\n",
              "PELOTAS      431440                15  ...            0                2\n",
              "PELOTAS      431440                15  ...           00                2\n",
              "PELOTAS      431440                15  ...  00000000000                1\n",
              "...             ...               ...  ...          ...              ...\n",
              "PELOTAS      431440                15  ...          Z 3                1\n",
              "PELOTAS      431440                15  ...           Z3                9\n",
              "PELOTAS      431440                15  ...   ZONA NORTE                1\n",
              "PELOTAS      431440                15  ...   ZONA RURAC                1\n",
              "PELOTAS      431440                15  ...   ZONA RURAL               73\n",
              "\n",
              "[856 rows x 5 columns]"
            ]
          },
          "metadata": {},
          "execution_count": 36
        }
      ]
    },
    {
      "cell_type": "code",
      "metadata": {
        "colab": {
          "base_uri": "https://localhost:8080/"
        },
        "id": "6JGgtftwH-23",
        "outputId": "8c9b028c-2434-4c8f-b2ef-7b3560430937"
      },
      "source": [
        "df2.loc[\"PELOTAS\"].info()"
      ],
      "execution_count": 37,
      "outputs": [
        {
          "output_type": "stream",
          "name": "stdout",
          "text": [
            "<class 'pandas.core.frame.DataFrame'>\n",
            "Index: 856 entries, PELOTAS to PELOTAS\n",
            "Data columns (total 5 columns):\n",
            " #   Column            Non-Null Count  Dtype \n",
            "---  ------            --------------  ----- \n",
            " 0   COD_IBGE          856 non-null    int64 \n",
            " 1   COD_REGIAO_COVID  856 non-null    int64 \n",
            " 2   REGIAO_COVID      856 non-null    object\n",
            " 3   BAIRRO            856 non-null    object\n",
            " 4   QUANTIDADE_CASOS  856 non-null    int64 \n",
            "dtypes: int64(3), object(2)\n",
            "memory usage: 40.1+ KB\n"
          ]
        }
      ]
    },
    {
      "cell_type": "code",
      "metadata": {
        "id": "JcuIcHevN53S"
      },
      "source": [
        "casos=df2.loc[['PELOTAS'],\"QUANTIDADE_CASOS\"]"
      ],
      "execution_count": 45,
      "outputs": []
    },
    {
      "cell_type": "code",
      "metadata": {
        "colab": {
          "base_uri": "https://localhost:8080/"
        },
        "id": "NqUvlAGDEr_c",
        "outputId": "b099ddde-31a1-4477-95f8-57b69aeb220f"
      },
      "source": [
        "casos.sample(5)"
      ],
      "execution_count": 59,
      "outputs": [
        {
          "output_type": "execute_result",
          "data": {
            "text/plain": [
              "MUNICIPIO\n",
              "PELOTAS    250\n",
              "PELOTAS      1\n",
              "PELOTAS      3\n",
              "PELOTAS      1\n",
              "PELOTAS    319\n",
              "Name: QUANTIDADE_CASOS, dtype: int64"
            ]
          },
          "metadata": {},
          "execution_count": 59
        }
      ]
    },
    {
      "cell_type": "code",
      "metadata": {
        "id": "Hx0cgZRDEBHF"
      },
      "source": [
        "bairro=df2.loc[['PELOTAS'],\"BAIRRO\"]"
      ],
      "execution_count": 52,
      "outputs": []
    },
    {
      "cell_type": "code",
      "metadata": {
        "colab": {
          "base_uri": "https://localhost:8080/"
        },
        "id": "kaU7Uvd5E04F",
        "outputId": "d500281a-ce74-4914-a6f0-146e08af473b"
      },
      "source": [
        "bairro.sample(5)"
      ],
      "execution_count": 58,
      "outputs": [
        {
          "output_type": "execute_result",
          "data": {
            "text/plain": [
              "MUNICIPIO\n",
              "PELOTAS        COLONA Z3\n",
              "PELOTAS    COHAB PESTANO\n",
              "PELOTAS           CENTRP\n",
              "PELOTAS    MORRO DA MINA\n",
              "PELOTAS                N\n",
              "Name: BAIRRO, dtype: object"
            ]
          },
          "metadata": {},
          "execution_count": 58
        }
      ]
    },
    {
      "cell_type": "code",
      "metadata": {
        "id": "VMiRTnBNClYQ"
      },
      "source": [
        "import matplotlib.pyplot as plt"
      ],
      "execution_count": 53,
      "outputs": []
    },
    {
      "cell_type": "code",
      "metadata": {
        "colab": {
          "base_uri": "https://localhost:8080/",
          "height": 287
        },
        "id": "FK6Fw6EuC5nl",
        "outputId": "876db9a4-90c3-41f8-bfd0-6204da8e3e20"
      },
      "source": [
        "plt.bar(bairro,casos)"
      ],
      "execution_count": 54,
      "outputs": [
        {
          "output_type": "execute_result",
          "data": {
            "text/plain": [
              "<BarContainer object of 856 artists>"
            ]
          },
          "metadata": {},
          "execution_count": 54
        },
        {
          "output_type": "display_data",
          "data": {
            "image/png": "[encoded data removed]",
            "text/plain": [
              "<Figure size 432x288 with 1 Axes>"
            ]
          },
          "metadata": {
            "needs_background": "light"
          }
        }
      ]
    },
    {
      "cell_type": "code",
      "metadata": {
        "id": "SXVHBhfcDBe9"
      },
      "source": [
        ""
      ],
      "execution_count": null,
      "outputs": []
    }
  ]
}
